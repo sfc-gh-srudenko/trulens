{
 "cells": [
  {
   "cell_type": "code",
   "execution_count": 8,
   "metadata": {},
   "outputs": [],
   "source": [
    "import sqlite3\n",
    "\n",
    "import pandas as pd\n",
    "\n",
    "# Connect to SQLite database\n",
    "sqlite_conn = sqlite3.connect('default.sqlite')\n",
    "cursor = sqlite_conn.cursor()\n",
    "\n",
    "# Get the list of all tables\n",
    "cursor.execute(\"SELECT name FROM sqlite_master WHERE type='table';\")\n",
    "tables = cursor.fetchall()\n"
   ]
  },
  {
   "cell_type": "code",
   "execution_count": 9,
   "metadata": {},
   "outputs": [
    {
     "data": {
      "text/plain": [
       "[('trulens_alembic_version',),\n",
       " ('trulens_feedback_defs',),\n",
       " ('trulens_records',),\n",
       " ('trulens_dataset',),\n",
       " ('trulens_ground_truth',),\n",
       " ('trulens_feedbacks',),\n",
       " ('trulens_apps',)]"
      ]
     },
     "execution_count": 9,
     "metadata": {},
     "output_type": "execute_result"
    }
   ],
   "source": [
    "tables"
   ]
  },
  {
   "cell_type": "code",
   "execution_count": 10,
   "metadata": {},
   "outputs": [],
   "source": [
    "import os\n",
    "\n",
    "import snowflake.connector\n",
    "\n",
    "snowflake_conn = snowflake.connector.connect(\n",
    "    account =os.environ.get(\"SNOWFLAKE_ACCOUNT\"),\n",
    "    user=os.environ.get(\"SNOWFLAKE_USER\"),\n",
    "    password=os.environ.get(\"SNOWFLAKE_USER_PASSWORD\"),\n",
    "    database=os.environ.get(\"SNOWFLAKE_DATABASE\"),\n",
    "    schema='CONTEXT_RELEVANCE_TREC_2020',\n",
    "    warehouse=os.environ.get(\"SNOWFLAKE_WAREHOUSE\"),\n",
    "    role=os.environ.get(\"SNOWFLAKE_ROLE\"),\n",
    ")\n",
    "    "
   ]
  },
  {
   "cell_type": "code",
   "execution_count": 11,
   "metadata": {},
   "outputs": [],
   "source": [
    "for table_name in tables:\n",
    "    # Load data from SQLite into a DataFrame\n",
    "    table_name = table_name[0]  # Extract table name from tuple\n",
    "    df = pd.read_sql_query(f\"SELECT * FROM {table_name}\", sqlite_conn)\n",
    "    \n",
    "    # Generate CREATE TABLE statement\n",
    "    create_table_sql = f\"CREATE OR REPLACE TABLE {table_name} (\"\n",
    "    columns = []\n",
    "    for col_name, col_type in df.dtypes.items():\n",
    "        if col_type == 'int64':\n",
    "            col_type_snowflake = 'INTEGER'\n",
    "        elif col_type == 'float64':\n",
    "            col_type_snowflake = 'FLOAT'\n",
    "        elif col_type == 'bool':\n",
    "            col_type_snowflake = 'BOOLEAN'\n",
    "        else:\n",
    "            col_type_snowflake = 'TEXT'\n",
    "        columns.append(f\"{col_name} {col_type_snowflake}\")\n",
    "    create_table_sql += \", \".join(columns) + \");\"\n",
    "    \n",
    "    # Create table in Snowflake\n",
    "    cursor = snowflake_conn.cursor()\n",
    "    cursor.execute(create_table_sql)\n"
   ]
  },
  {
   "cell_type": "code",
   "execution_count": 12,
   "metadata": {},
   "outputs": [],
   "source": [
    "import os\n",
    "import re\n",
    "\n",
    "for table_name in tables:\n",
    "    table_name = table_name[0]\n",
    "    df = pd.read_sql_query(f\"SELECT * FROM {table_name}\", sqlite_conn)\n",
    "    \n",
    "    # Save DataFrame as a CSV\n",
    "    csv_file = f\"{table_name}.csv\"\n",
    "    df.to_csv(csv_file, index=False)\n",
    "\n",
    "    # Generate a Snowflake-compatible stage name by replacing special characters with underscores\n",
    "    sanitized_stage_name = re.sub(r'\\W+', '_', f\"temp_stage_{table_name}\")\n",
    "    \n",
    "    # Create a temporary stage in Snowflake\n",
    "    snowflake_cursor = snowflake_conn.cursor()\n",
    "    snowflake_cursor.execute(f\"CREATE OR REPLACE TEMPORARY STAGE {sanitized_stage_name}\")\n",
    "    \n",
    "    # PUT the CSV file to the stage\n",
    "    with open(csv_file, 'rb') as file_data:\n",
    "        snowflake_cursor.execute(f\"PUT file://{csv_file} @{sanitized_stage_name}\")\n",
    "    \n",
    "    # Copy data from the stage to the table in Snowflake\n",
    "    snowflake_cursor.execute(f\"\"\"\n",
    "        COPY INTO {table_name}\n",
    "        FROM @{sanitized_stage_name}\n",
    "        FILE_FORMAT = (TYPE = 'CSV' FIELD_OPTIONALLY_ENCLOSED_BY = '\"' SKIP_HEADER = 1)\n",
    "    \"\"\")\n",
    "    \n",
    "    # Clean up temporary stage and local CSV file\n",
    "    snowflake_cursor.execute(f\"DROP STAGE IF EXISTS {sanitized_stage_name}\")\n",
    "    os.remove(csv_file)\n"
   ]
  },
  {
   "cell_type": "code",
   "execution_count": 13,
   "metadata": {},
   "outputs": [],
   "source": [
    "sqlite_conn.close()\n",
    "snowflake_conn.close()"
   ]
  },
  {
   "cell_type": "code",
   "execution_count": null,
   "metadata": {},
   "outputs": [],
   "source": []
  }
 ],
 "metadata": {
  "kernelspec": {
   "display_name": "trulens",
   "language": "python",
   "name": "python3"
  },
  "language_info": {
   "codemirror_mode": {
    "name": "ipython",
    "version": 3
   },
   "file_extension": ".py",
   "mimetype": "text/x-python",
   "name": "python",
   "nbconvert_exporter": "python",
   "pygments_lexer": "ipython3",
   "version": "3.11.9"
  }
 },
 "nbformat": 4,
 "nbformat_minor": 2
}
