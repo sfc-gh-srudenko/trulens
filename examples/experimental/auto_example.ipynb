{
 "cells": [
  {
   "cell_type": "markdown",
   "metadata": {},
   "source": [
    "# Auto\n",
    "\n",
    "Demonstrations of the `trulens-auto` package features."
   ]
  },
  {
   "cell_type": "code",
   "execution_count": null,
   "metadata": {},
   "outputs": [],
   "source": [
    "from pathlib import Path\n",
    "import sys\n",
    "\n",
    "# Add base dir to path to be able to access test folder.\n",
    "base_dir = Path().cwd().parent.parent.resolve()\n",
    "if str(base_dir) not in sys.path:\n",
    "    print(f\"Adding {base_dir} to sys.path\")\n",
    "    sys.path.append(str(base_dir))"
   ]
  },
  {
   "cell_type": "code",
   "execution_count": null,
   "metadata": {},
   "outputs": [],
   "source": [
    "from trulens import auto\n",
    "\n",
    "auto"
   ]
  },
  {
   "cell_type": "code",
   "execution_count": null,
   "metadata": {},
   "outputs": [],
   "source": [
    "from trulens.auto import providers\n",
    "\n",
    "providers"
   ]
  },
  {
   "cell_type": "code",
   "execution_count": null,
   "metadata": {},
   "outputs": [],
   "source": [
    "from trulens.auto import instrument\n",
    "\n",
    "instrument"
   ]
  },
  {
   "cell_type": "code",
   "execution_count": null,
   "metadata": {},
   "outputs": [],
   "source": [
    "from trulens.auto import Feedback\n",
    "from trulens.auto import HuggingfaceDummy\n",
    "from trulens.auto import TruCustomApp\n",
    "from trulens.auto import TruSession\n",
    "from trulens.auto import run_dashboard\n",
    "\n",
    "from examples.dev.dummy_app.app import DummyApp"
   ]
  },
  {
   "cell_type": "code",
   "execution_count": null,
   "metadata": {},
   "outputs": [],
   "source": [
    "tru = TruSession()\n",
    "tru.reset_database()\n",
    "\n",
    "provider = HuggingfaceDummy()\n",
    "\n",
    "run_dashboard(tru, force=True, _dev=base_dir)"
   ]
  },
  {
   "cell_type": "code",
   "execution_count": null,
   "metadata": {},
   "outputs": [],
   "source": [
    "tru.get_records_and_feedback(limit=10)[0]"
   ]
  },
  {
   "cell_type": "code",
   "execution_count": null,
   "metadata": {},
   "outputs": [],
   "source": [
    "f_dummy1 = Feedback(provider.language_match).on_input_output()\n",
    "\n",
    "f_dummy2 = Feedback(\n",
    "    provider.positive_sentiment, name=\"output sentiment\"\n",
    ").on_output()\n",
    "\n",
    "# Create custom app:\n",
    "ca = DummyApp(delay=0.0, alloc=0)\n",
    "\n",
    "# Create trulens wrapper:\n",
    "ta = TruCustomApp(\n",
    "    ca,\n",
    "    app_name=\"customapp\",\n",
    "    feedbacks=[f_dummy1, f_dummy2],\n",
    ")"
   ]
  },
  {
   "cell_type": "code",
   "execution_count": null,
   "metadata": {},
   "outputs": [],
   "source": [
    "with ta as recorder:\n",
    "    res = ca.respond_to_query(\"hello there\")\n",
    "res"
   ]
  },
  {
   "cell_type": "code",
   "execution_count": null,
   "metadata": {},
   "outputs": [],
   "source": [
    "ta.wait_for_feedback_results(feedback_timeout=5)"
   ]
  }
 ],
 "metadata": {
  "kernelspec": {
   "display_name": "trulens-Hw0Dq8Lu-py3.11",
   "language": "python",
   "name": "python3"
  },
  "language_info": {
   "codemirror_mode": {
    "name": "ipython",
    "version": 3
   },
   "file_extension": ".py",
   "mimetype": "text/x-python",
   "name": "python",
   "nbconvert_exporter": "python",
   "pygments_lexer": "ipython3"
  }
 },
 "nbformat": 4,
 "nbformat_minor": 2
}
