{
 "cells": [
  {
   "cell_type": "markdown",
   "metadata": {},
   "source": [
    "## Snowflake Feedback Functions\n",
    "This example notebook computes feedback functions in deferred mode inside snowflake warehouse. \n",
    "Trulens library imported in the LLM app just takes care of logging to snowflake."
   ]
  },
  {
   "cell_type": "code",
   "execution_count": null,
   "metadata": {},
   "outputs": [],
   "source": [
    "from trulens.connectors.snowflake import SnowflakeConnector\n",
    "from trulens.core.schema.app import RecordIngestMode\n",
    "from trulens.core.session import TruSession\n",
    "\n",
    "connection_params = {\n",
    "    \"account\": \"xxx\",\n",
    "    \"user\": \"xxx\",\n",
    "    \"password\": \"xxxx\",\n",
    "    \"database\": \"xxx\",\n",
    "    \"schema\": \"xxx\",\n",
    "    \"warehouse\": \"xxx\",\n",
    "    \"role\": \"ENGINEER\",\n",
    "    \"init_server_side\": True,  # Set to True to enable server side feedback functions\n",
    "}\n",
    "\n",
    "connector = SnowflakeConnector(**connection_params)\n",
    "session = TruSession(connector=connector)"
   ]
  },
  {
   "cell_type": "code",
   "execution_count": null,
   "metadata": {},
   "outputs": [],
   "source": [
    "from snowflake.snowpark import Session\n",
    "\n",
    "snowpark_session = Session.builder.configs(connection_params).create()"
   ]
  },
  {
   "cell_type": "code",
   "execution_count": null,
   "metadata": {},
   "outputs": [],
   "source": [
    "uw_info = \"\"\"\n",
    "The University of Washington, founded in 1861 in Seattle, is a public research university\n",
    "with over 45,000 students across three campuses in Seattle, Tacoma, and Bothell.\n",
    "As the flagship institution of the six public universities in Washington state,\n",
    "UW encompasses over 500 buildings and 20 million square feet of space,\n",
    "including one of the largest library systems in the world.\n",
    "\"\"\"\n",
    "\n",
    "wsu_info = \"\"\"\n",
    "Washington State University, commonly known as WSU, founded in 1890, is a public research university in Pullman, Washingt\n",
    "on.\n",
    "With multiple campuses across the state, it is the state's second largest institution of higher education.\n",
    "WSU is known for its programs in veterinary medicine, agriculture, engineering, architecture, and pharmacy.\n",
    "\"\"\""
   ]
  },
  {
   "cell_type": "code",
   "execution_count": null,
   "metadata": {},
   "outputs": [],
   "source": [
    "from sentence_transformers import SentenceTransformer\n",
    "\n",
    "model = SentenceTransformer(\"Snowflake/snowflake-arctic-embed-m\")\n",
    "document_embeddings = model.encode([uw_info])"
   ]
  },
  {
   "cell_type": "code",
   "execution_count": null,
   "metadata": {},
   "outputs": [],
   "source": [
    "import chromadb\n",
    "\n",
    "chroma_client = chromadb.Client()\n",
    "vector_store = chroma_client.get_or_create_collection(name=\"Univerisities\")\n",
    "vector_store.add(\"uni_info\", documents=uw_info, embeddings=document_embeddings)"
   ]
  },
  {
   "cell_type": "code",
   "execution_count": null,
   "metadata": {},
   "outputs": [],
   "source": [
    "import json\n",
    "\n",
    "from trulens.core.instruments import instrument\n",
    "\n",
    "\n",
    "class RAG_from_scratch:\n",
    "    @instrument\n",
    "    def retrieve(self, query: str) -> list:\n",
    "        \"\"\"\n",
    "        Retrieve relevant text from vector store.\n",
    "        \"\"\"\n",
    "        results = vector_store.query(\n",
    "            query_embeddings=model.encode([query], prompt_name=\"query\"),\n",
    "            n_results=2,\n",
    "        )\n",
    "        return results[\"documents\"]\n",
    "\n",
    "    @instrument\n",
    "    def generate_completion(self, query: str, context_str: list) -> str:\n",
    "        \"\"\"\n",
    "        Generate answer from context.\n",
    "        \"\"\"\n",
    "\n",
    "        def escape_string_for_sql(input_string):\n",
    "            escaped_string = input_string.replace(\"\\\\\", \"\\\\\\\\\")\n",
    "            escaped_string = escaped_string.replace(\"'\", \"''\")\n",
    "            return escaped_string\n",
    "\n",
    "        prompt = escape_string_for_sql(f\"\"\"\n",
    "         We have provided context information below. \n",
    "            {context_str}\n",
    "            Given this information, please answer the question: {query}\n",
    "        \"\"\")\n",
    "\n",
    "        res = snowpark_session.sql(f\"\"\"SELECT SNOWFLAKE.CORTEX.COMPLETE(\n",
    "            'snowflake-arctic',\n",
    "            [\n",
    "            {{'role': 'user', 'content': '{prompt}'}}\n",
    "            ], {{\n",
    "                'temperature': 0\n",
    "            }}\n",
    "            )\"\"\").collect()\n",
    "\n",
    "        if len(res) == 0:\n",
    "            return \"No response from cortex function\"\n",
    "        completion = json.loads(res[0][0])[\"choices\"][0][\"messages\"]\n",
    "        print(\"full response from cortex function:\")\n",
    "        print(res)\n",
    "        return completion\n",
    "\n",
    "    @instrument\n",
    "    def query(self, query: str) -> str:\n",
    "        context_str = self.retrieve(query)\n",
    "        completion = self.generate_completion(query, context_str)\n",
    "        return completion\n",
    "\n",
    "\n",
    "rag = RAG_from_scratch()"
   ]
  },
  {
   "cell_type": "code",
   "execution_count": null,
   "metadata": {},
   "outputs": [],
   "source": [
    "import numpy as np\n",
    "from trulens.core import Select\n",
    "from trulens.core.feedback.feedback import SnowflakeFeedback\n",
    "from trulens.providers.cortex import Cortex\n",
    "\n",
    "provider = Cortex(\n",
    "    connection_params,\n",
    "    model_engine=\"snowflake-arctic\",\n",
    ")\n",
    "\n",
    "# Question/answer relevance between overall question and answer.\n",
    "f_answer_relevance = (\n",
    "    SnowflakeFeedback(\n",
    "        provider.relevance_with_cot_reasons, name=\"Answer Relevance\"\n",
    "    )\n",
    "    .on(Select.RecordCalls.retrieve.args.query)\n",
    "    .on_output()\n",
    ")\n",
    "\n",
    "# Question/statement relevance between question and each context chunk.\n",
    "f_context_relevance = (\n",
    "    SnowflakeFeedback(\n",
    "        provider.context_relevance_with_cot_reasons, name=\"Context Relevance\"\n",
    "    )\n",
    "    .on(Select.RecordCalls.retrieve.args.query)\n",
    "    .on(Select.RecordCalls.retrieve.rets.collect())\n",
    "    .aggregate(np.mean)\n",
    ")"
   ]
  },
  {
   "cell_type": "code",
   "execution_count": null,
   "metadata": {},
   "outputs": [],
   "source": [
    "from trulens.apps.custom import TruCustomApp\n",
    "\n",
    "tru_rag = TruCustomApp(\n",
    "    rag,\n",
    "    app_name=\"RAG\",\n",
    "    app_version=\"v1\",\n",
    "    feedbacks=[\n",
    "        f_answer_relevance,\n",
    "        f_context_relevance,\n",
    "    ],\n",
    "    record_ingest_mode=RecordIngestMode.BUFFERED,\n",
    ")"
   ]
  },
  {
   "cell_type": "code",
   "execution_count": null,
   "metadata": {},
   "outputs": [],
   "source": [
    "with tru_rag as recording:\n",
    "    for i in range(10):\n",
    "        resp = rag.query(\n",
    "            f\"Question {i} When is University of Washington founded ?\"\n",
    "        )\n",
    "        print(resp)"
   ]
  }
 ],
 "metadata": {
  "kernelspec": {
   "display_name": "stable",
   "language": "python",
   "name": "python3"
  },
  "language_info": {
   "codemirror_mode": {
    "name": "ipython",
    "version": 3
   },
   "file_extension": ".py",
   "mimetype": "text/x-python",
   "name": "python",
   "nbconvert_exporter": "python",
   "pygments_lexer": "ipython3"
  }
 },
 "nbformat": 4,
 "nbformat_minor": 2
}
