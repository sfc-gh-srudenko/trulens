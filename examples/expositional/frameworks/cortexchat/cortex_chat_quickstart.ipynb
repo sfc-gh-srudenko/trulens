{
 "cells": [
  {
   "cell_type": "markdown",
   "metadata": {},
   "source": [
    "# Cortex Chat + TruLens\n",
    "\n",
    "This quickstart assumes you already have a Cortex Search Service started and JWT token created."
   ]
  },
  {
   "cell_type": "markdown",
   "metadata": {},
   "source": [
    "## Set JWT Token"
   ]
  },
  {
   "cell_type": "code",
   "execution_count": null,
   "metadata": {},
   "outputs": [],
   "source": [
    "import os\n",
    "os.environ[\"SNOWFLAKE_JWT\"] = \"...\""
   ]
  },
  {
   "cell_type": "code",
   "execution_count": null,
   "metadata": {},
   "outputs": [],
   "source": [
    "import requests\n",
    "import os\n",
    "import json\n",
    "\n",
    "def handle_cortex_chat_response(response):\n",
    "    for line in response.iter_lines():\n",
    "        if line:\n",
    "            decoded_line = line.decode('utf-8')\n",
    "            if decoded_line.startswith('data:'):\n",
    "                try:\n",
    "                    data = json.loads(decoded_line[5:])\n",
    "                    if data['delta']['content'][0]['type'] == \"text\":\n",
    "                        print(data['delta']['content'][0]['text']['value'], end='', flush=True)\n",
    "                    if data['delta']['content'][0]['type'] == \"citation\":\n",
    "                        print(f\"\\n\", json.dumps(data['delta']['content'][0]['citation'], indent=4))\n",
    "                    if data['delta']['content'][0]['type'] == \"debug_info\":\n",
    "                        print(f\"\\n\",json.dumps(data['delta']['content'][0]['debug_info'], indent=4))\n",
    "                except json.JSONDecodeError:\n",
    "                    print(f\"Error decoding JSON: {decoded_line}\")\n",
    "                    \n",
    "def cortex_chat(query):\n",
    "    url = \"https://cortexsearchexternal.qa6.us-west-2.aws.snowflakecomputing.com/api/v2/cortex/chat\"\n",
    "    headers = {\n",
    "        'X-Snowflake-Authorization-Token-Type': 'KEYPAIR_JWT',\n",
    "        'Content-Type': 'application/json',\n",
    "        'Accept': 'application/json',\n",
    "        'Authorization': f\"Bearer {os.environ.get('SNOWFLAKE_JWT')}\"\n",
    "    }\n",
    "    data = {\n",
    "        \"query\": query,\n",
    "        \"model\": \"mistral-7b\",\n",
    "        \"debug\": True,\n",
    "        \"search_services\": [{\n",
    "            \"name\": \"llmops_db.llmops_schema.llmops_cortex_search_service\",\n",
    "            \"max_results\": 100\n",
    "        }],\n",
    "        \"prompt\": \"Answer the question: {{.Question}}\",\n",
    "    }\n",
    "\n",
    "    response = requests.post(url, headers=headers, json=data, stream=True)\n",
    "    if response.status_code == 200:\n",
    "        handle_cortex_chat_response(response)\n",
    "    else:\n",
    "        print(f\"Error: {response.status_code} - {response.text}\")"
   ]
  },
  {
   "cell_type": "code",
   "execution_count": null,
   "metadata": {},
   "outputs": [],
   "source": [
    "# Example usage\n",
    "user_query = \"How do I create an app deployed to streamlit community cloud?\"\n",
    "cortex_chat(user_query)"
   ]
  }
 ],
 "metadata": {
  "kernelspec": {
   "display_name": "streamlit_trulens_demo",
   "language": "python",
   "name": "python3"
  },
  "language_info": {
   "codemirror_mode": {
    "name": "ipython",
    "version": 3
   },
   "file_extension": ".py",
   "mimetype": "text/x-python",
   "name": "python",
   "nbconvert_exporter": "python",
   "pygments_lexer": "ipython3"
  }
 },
 "nbformat": 4,
 "nbformat_minor": 2
}
