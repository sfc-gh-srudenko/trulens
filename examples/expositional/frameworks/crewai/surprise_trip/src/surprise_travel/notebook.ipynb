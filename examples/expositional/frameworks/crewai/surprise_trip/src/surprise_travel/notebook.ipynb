{
 "cells": [
  {
   "cell_type": "code",
   "execution_count": null,
   "metadata": {},
   "outputs": [],
   "source": [
    "# Install func/class naming fixes on crewai:\n",
    "# ! pip uninstall -y crewai crewai-tools\n",
    "# ! pip install git+https://github.com/piotrm0/crewAI@piotrm/wraps\n",
    "# ! pip install git+https://github.com/crewAIInc/crewAI-tools\n",
    "\n",
    "# ! pip install -U litellm\n"
   ]
  },
  {
   "cell_type": "code",
   "execution_count": null,
   "metadata": {},
   "outputs": [],
   "source": [
    "# ! pip install -U crewai_tools"
   ]
  },
  {
   "cell_type": "code",
   "execution_count": null,
   "metadata": {},
   "outputs": [],
   "source": [
    "from pathlib import Path\n",
    "import sys\n",
    "sys.path.append(str(Path.cwd().parent))\n",
    "\n",
    "from dotenv import load_dotenv\n",
    "load_dotenv()"
   ]
  },
  {
   "cell_type": "code",
   "execution_count": null,
   "metadata": {},
   "outputs": [],
   "source": [
    "from openai import OpenAI"
   ]
  },
  {
   "cell_type": "code",
   "execution_count": null,
   "metadata": {},
   "outputs": [],
   "source": [
    "from litellm import litellm"
   ]
  },
  {
   "cell_type": "code",
   "execution_count": null,
   "metadata": {},
   "outputs": [],
   "source": [
    "litellm.completion(model=\"openai/gpt-4o\", messages=[{\"role\": \"system\", \"content\": \"You are a helpful assistant.\"}])"
   ]
  },
  {
   "cell_type": "code",
   "execution_count": null,
   "metadata": {},
   "outputs": [],
   "source": [
    "c = OpenAI()\n",
    "c.chat.completions.create(model=\"gpt-4o\", messages=[{'role': 'system', 'content': \"hello there\"}], max_tokens=5)"
   ]
  },
  {
   "cell_type": "code",
   "execution_count": null,
   "metadata": {},
   "outputs": [],
   "source": [
    "import os\n",
    "for k, v in os.environ.items():\n",
    "    print(f\"{k}={v}\")"
   ]
  },
  {
   "cell_type": "code",
   "execution_count": null,
   "metadata": {},
   "outputs": [],
   "source": [
    "from trulens.core.session import TruSession\n",
    "from trulens.apps.custom import TruCustomApp\n",
    "\n",
    "session = TruSession()\n",
    "session.experimental_enable_feature(\"otel_tracing\")\n",
    "\n",
    "session.reset_database()\n",
    "session.start_dashboard(force=True, port=8080)"
   ]
  },
  {
   "cell_type": "code",
   "execution_count": null,
   "metadata": {},
   "outputs": [],
   "source": [
    "from surprise_travel.crew import SurpriseTravelCrew\n",
    "\n",
    "surprise_travel_crew = SurpriseTravelCrew()\n",
    "\n",
    "tru_suprise_travel_crew = TruCustomApp(\n",
    "    surprise_travel_crew,\n",
    "    app_name=\"SurpriseTravelCrew\",\n",
    "    app_version=\"1.0.0\",\n",
    "    feedbacks=[],\n",
    ")"
   ]
  },
  {
   "cell_type": "code",
   "execution_count": null,
   "metadata": {},
   "outputs": [],
   "source": [
    "inputs = {\n",
    "    \"origin\": \"São Paulo, GRU\",\n",
    "    \"destination\": \"New York, JFK\",\n",
    "    \"age\": 31,\n",
    "    \"hotel_location\": \"Brooklyn\",\n",
    "    \"flight_information\": \"GOL 1234, leaving at June 30th, 2024, 10:00\",\n",
    "    \"trip_duration\": \"14 days\",\n",
    "}\n",
    "with tru_suprise_travel_crew as recorder:\n",
    "    result = surprise_travel_crew.crew().kickoff(inputs=inputs)"
   ]
  },
  {
   "cell_type": "code",
   "execution_count": null,
   "metadata": {},
   "outputs": [],
   "source": [
    "for record in recorder.records:\n",
    "    print(record.record_id)\n",
    "    print(record)"
   ]
  },
  {
   "cell_type": "code",
   "execution_count": null,
   "metadata": {},
   "outputs": [],
   "source": [
    "print(record)"
   ]
  },
  {
   "cell_type": "code",
   "execution_count": null,
   "metadata": {},
   "outputs": [],
   "source": [
    "from crewai_tools import SerperDevTool, ScrapeWebsiteTool\n",
    "SerperDevTool.__bases__"
   ]
  },
  {
   "cell_type": "code",
   "execution_count": null,
   "metadata": {},
   "outputs": [],
   "source": [
    "surprise_travel_crew.__class__.__mro__"
   ]
  },
  {
   "cell_type": "code",
   "execution_count": null,
   "metadata": {},
   "outputs": [],
   "source": [
    "from crewai_tools.tools.base_tool import BaseTool"
   ]
  },
  {
   "cell_type": "code",
   "execution_count": null,
   "metadata": {},
   "outputs": [],
   "source": [
    "BaseTool.__bases__"
   ]
  },
  {
   "cell_type": "code",
   "execution_count": null,
   "metadata": {},
   "outputs": [],
   "source": [
    "from crewai import Agent"
   ]
  },
  {
   "cell_type": "code",
   "execution_count": null,
   "metadata": {},
   "outputs": [],
   "source": [
    "Agent.model_fields['tools'].annotation"
   ]
  },
  {
   "cell_type": "code",
   "execution_count": null,
   "metadata": {},
   "outputs": [],
   "source": [
    "from crewai.tools.base_tool import BaseTool"
   ]
  },
  {
   "cell_type": "code",
   "execution_count": null,
   "metadata": {},
   "outputs": [],
   "source": [
    "BaseTool.__bases__"
   ]
  }
 ],
 "metadata": {
  "kernelspec": {
   "display_name": "trulens-9bG3yHQd-py3.11",
   "language": "python",
   "name": "python3"
  },
  "language_info": {
   "codemirror_mode": {
    "name": "ipython",
    "version": 3
   },
   "file_extension": ".py",
   "mimetype": "text/x-python",
   "name": "python",
   "nbconvert_exporter": "python",
   "pygments_lexer": "ipython3"
  }
 },
 "nbformat": 4,
 "nbformat_minor": 2
}
