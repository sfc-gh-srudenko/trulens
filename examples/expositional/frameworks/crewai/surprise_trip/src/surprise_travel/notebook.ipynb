{
 "cells": [
  {
   "cell_type": "code",
   "execution_count": null,
   "metadata": {},
   "outputs": [],
   "source": [
    "from pathlib import Path\n",
    "import sys\n",
    "sys.path.append(str(Path.cwd().parent))"
   ]
  },
  {
   "cell_type": "code",
   "execution_count": null,
   "metadata": {},
   "outputs": [],
   "source": [
    "from trulens.core.session import TruSession\n",
    "from trulens.apps.custom import TruCustomApp\n",
    "\n",
    "session = TruSession()\n",
    "# session.experimental_enable_feature(\"otel_tracing\")\n",
    "\n",
    "session.reset_database()\n",
    "session.start_dashboard(force=True, port=8080)"
   ]
  },
  {
   "cell_type": "code",
   "execution_count": null,
   "metadata": {},
   "outputs": [],
   "source": [
    "from surprise_travel.crew import SurpriseTravelCrew\n",
    "\n",
    "surprise_travel_crew = SurpriseTravelCrew()\n",
    "\n",
    "tru_suprise_travel_crew = TruCustomApp(\n",
    "    surprise_travel_crew,\n",
    "    app_name=\"SurpriseTravelCrew\",\n",
    "    app_version=\"1.0.0\",\n",
    "    feedbacks=[],\n",
    ")"
   ]
  },
  {
   "cell_type": "code",
   "execution_count": null,
   "metadata": {},
   "outputs": [],
   "source": [
    "inputs = {\n",
    "    \"origin\": \"São Paulo, GRU\",\n",
    "    \"destination\": \"New York, JFK\",\n",
    "    \"age\": 31,\n",
    "    \"hotel_location\": \"Brooklyn\",\n",
    "    \"flight_information\": \"GOL 1234, leaving at June 30th, 2024, 10:00\",\n",
    "    \"trip_duration\": \"14 days\",\n",
    "}\n",
    "with tru_suprise_travel_crew as recorder:\n",
    "    result = surprise_travel_crew.crew().kickoff(inputs=inputs)"
   ]
  },
  {
   "cell_type": "code",
   "execution_count": null,
   "metadata": {},
   "outputs": [],
   "source": [
    "for record in recorder.records:\n",
    "    print(record.record_id)\n",
    "    print(record)"
   ]
  },
  {
   "cell_type": "code",
   "execution_count": null,
   "metadata": {},
   "outputs": [],
   "source": [
    "print(record)"
   ]
  }
 ],
 "metadata": {
  "kernelspec": {
   "display_name": "trulens-9bG3yHQd-py3.11",
   "language": "python",
   "name": "python3"
  },
  "language_info": {
   "codemirror_mode": {
    "name": "ipython",
    "version": 3
   },
   "file_extension": ".py",
   "mimetype": "text/x-python",
   "name": "python",
   "nbconvert_exporter": "python",
   "pygments_lexer": "ipython3"
  }
 },
 "nbformat": 4,
 "nbformat_minor": 2
}
