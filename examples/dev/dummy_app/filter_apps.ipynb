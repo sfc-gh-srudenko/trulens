{
 "cells": [
  {
   "cell_type": "markdown",
   "metadata": {},
   "source": [
    "# Populate apps to show filtering"
   ]
  },
  {
   "cell_type": "code",
   "execution_count": 1,
   "metadata": {},
   "outputs": [],
   "source": [
    "from pathlib import Path\n",
    "import sys\n",
    "\n",
    "repo_path = Path().cwd().parent.parent.parent.resolve()\n",
    "\n",
    "# If using trulens from the repository, add the parent directory to the path:\n",
    "sys.path.append(str(repo_path))"
   ]
  },
  {
   "cell_type": "code",
   "execution_count": 2,
   "metadata": {},
   "outputs": [
    {
     "name": "stdout",
     "output_type": "stream",
     "text": [
      "🦑 TruSession initialized with db url sqlite:///default.sqlite .\n",
      "🛑 Secret keys may be written to the database. See the `database_redact_keys` option of `TruSession` to prevent this.\n"
     ]
    }
   ],
   "source": [
    "from trulens.core import TruSession\n",
    "from trulens.core.app.custom import TruCustomApp\n",
    "\n",
    "from examples.dev.dummy_app.app import DummyApp\n",
    "\n",
    "tru = TruSession()\n",
    "tru.reset_database()"
   ]
  },
  {
   "cell_type": "code",
   "execution_count": 4,
   "metadata": {},
   "outputs": [
    {
     "name": "stdout",
     "output_type": "stream",
     "text": [
      "Starting dashboard ...\n",
      "Config file already exists. Skipping writing process.\n",
      "Credentials file already exists. Skipping writing process.\n"
     ]
    },
    {
     "data": {
      "application/vnd.jupyter.widget-view+json": {
       "model_id": "80b0bf3208ff47b1a6271ff983dca44c",
       "version_major": 2,
       "version_minor": 0
      },
      "text/plain": [
       "Accordion(children=(VBox(children=(VBox(children=(Label(value='STDOUT'), Output())), VBox(children=(Label(valu…"
      ]
     },
     "metadata": {},
     "output_type": "display_data"
    },
    {
     "name": "stdout",
     "output_type": "stream",
     "text": [
      "Dashboard started at http://10.10.227.94:58354 .\n"
     ]
    },
    {
     "data": {
      "text/plain": [
       "<Popen: returncode: None args: ['streamlit', 'run', '--server.headless=True'...>"
      ]
     },
     "execution_count": 4,
     "metadata": {},
     "output_type": "execute_result"
    }
   ],
   "source": [
    "from trulens.dashboard import run_dashboard\n",
    "\n",
    "run_dashboard(session=tru)"
   ]
  },
  {
   "cell_type": "code",
   "execution_count": 5,
   "metadata": {},
   "outputs": [],
   "source": [
    "# Create custom app:\n",
    "ca1 = DummyApp()\n",
    "\n",
    "# Create trulens wrapper:\n",
    "ta1 = TruCustomApp(\n",
    "    ca1,\n",
    "    app_version=\"1\",\n",
    "    app_name=\"customapp\",\n",
    "    metadata={\"top_k\": 5, \"retriever\": \"semantic\"},\n",
    "    tags=\"prototype\",\n",
    ")\n",
    "\n",
    "with ta1 as recording:\n",
    "    ca1.respond_to_query(\"how are you?\")"
   ]
  },
  {
   "cell_type": "code",
   "execution_count": 6,
   "metadata": {},
   "outputs": [],
   "source": [
    "# Create custom app:\n",
    "ca2 = DummyApp()\n",
    "\n",
    "# Create trulens wrapper:\n",
    "ta2 = TruCustomApp(\n",
    "    ca2,\n",
    "    app_version=\"2\",\n",
    "    app_name=\"customapp\",\n",
    "    metadata={\"top_k\": 2, \"retriever\": \"semantic\"},\n",
    "    tags=\"prototype\",\n",
    ")\n",
    "\n",
    "with ta2 as recording:\n",
    "    ca2.respond_to_query(\"how are you?\")"
   ]
  },
  {
   "cell_type": "code",
   "execution_count": 7,
   "metadata": {},
   "outputs": [],
   "source": [
    "# Create custom app:\n",
    "ca3 = DummyApp()\n",
    "\n",
    "# Create trulens wrapper:\n",
    "ta3 = TruCustomApp(\n",
    "    ca3,\n",
    "    app_name=\"customapp\",\n",
    "    app_version=\"3\",\n",
    "    metadata={\"top_k\": 2, \"retriever\": \"hybrid\"},\n",
    "    tags=\"prototype\",\n",
    ")\n",
    "\n",
    "with ta3 as recording:\n",
    "    ca3.respond_to_query(\"how are you?\")"
   ]
  },
  {
   "cell_type": "code",
   "execution_count": 8,
   "metadata": {},
   "outputs": [],
   "source": [
    "# Create custom app:\n",
    "ca4 = DummyApp()\n",
    "\n",
    "# Create trulens wrapper:\n",
    "ta4 = TruCustomApp(\n",
    "    ca4,\n",
    "    app_name=\"customapp\",\n",
    "    app_version=\"4\",\n",
    "    metadata={\"top_k\": 5, \"retriever\": \"semantic\"},\n",
    "    tags=\"prototype\",\n",
    ")\n",
    "\n",
    "with ta4 as recording:\n",
    "    ca4.respond_to_query(\"how are you?\")"
   ]
  },
  {
   "cell_type": "code",
   "execution_count": 9,
   "metadata": {},
   "outputs": [],
   "source": [
    "# Create custom app:\n",
    "ca5 = DummyApp()\n",
    "\n",
    "# Create trulens wrapper:\n",
    "ta5 = TruCustomApp(\n",
    "    ca5,\n",
    "    app_name=\"customapp2\",\n",
    "    app_version=\"1\",\n",
    "    metadata={\"top_k\": 5, \"retriever\": \"semantic\"},\n",
    "    tags=\"prototype\",\n",
    ")\n",
    "\n",
    "with ta5 as recording:\n",
    "    ca5.respond_to_query(\"how are you?\")"
   ]
  }
 ],
 "metadata": {
  "kernelspec": {
   "display_name": "snowday",
   "language": "python",
   "name": "python3"
  },
  "language_info": {
   "codemirror_mode": {
    "name": "ipython",
    "version": 3
   },
   "file_extension": ".py",
   "mimetype": "text/x-python",
   "name": "python",
   "nbconvert_exporter": "python",
   "pygments_lexer": "ipython3",
   "version": "3.11.9"
  }
 },
 "nbformat": 4,
 "nbformat_minor": 2
}
