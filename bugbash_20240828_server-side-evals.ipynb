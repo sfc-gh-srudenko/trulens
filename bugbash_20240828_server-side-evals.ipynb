{
 "cells": [
  {
   "cell_type": "code",
   "execution_count": null,
   "id": "5f5c408b-1a82-4bf3-b264-427e9f1d537d",
   "metadata": {},
   "outputs": [],
   "source": [
    "# Imports.\n",
    "\n",
    "import os\n",
    "\n",
    "import snowflake.connector\n",
    "from trulens.connectors.snowflake.connector import SnowflakeConnector\n",
    "from trulens.core import SnowflakeFeedback\n",
    "from trulens.core.session import TruSession\n",
    "from trulens.providers.cortex.provider import Cortex"
   ]
  },
  {
   "cell_type": "code",
   "execution_count": null,
   "id": "0f846740-6b96-4d0a-9752-8bf5b8b5b479",
   "metadata": {},
   "outputs": [],
   "source": [
    "# Create the TruSession.\n",
    "\n",
    "database_connector = SnowflakeConnector(\n",
    "    account=os.environ[\"SNOWFLAKE_ACCOUNT\"],\n",
    "    user=os.environ[\"SNOWFLAKE_USER\"],\n",
    "    password=os.environ[\"SNOWFLAKE_USER_PASSWORD\"],\n",
    "    database=os.environ[\"SNOWFLAKE_DATABASE\"],\n",
    "    schema=\"bugbash_20240828\",\n",
    "    warehouse=os.environ[\"SNOWFLAKE_WAREHOUSE\"],\n",
    "    role=os.environ[\"SNOWFLAKE_ROLE\"],\n",
    ")\n",
    "session = TruSession(database_connector)"
   ]
  },
  {
   "cell_type": "code",
   "execution_count": null,
   "id": "be9d8f6c-bc24-4bb0-be58-872d4ee051de",
   "metadata": {},
   "outputs": [],
   "source": [
    "# Create a custom app.\n",
    "\n",
    "from trulens.core import TruBasicApp\n",
    "from trulens.core.schema.app import RecordIngestMode\n",
    "\n",
    "cortex_provider = Cortex(\n",
    "    snowflake.connector.connect(**connection_params),\n",
    ")\n",
    "f_snowflake = SnowflakeFeedback(cortex_provider.relevance).on_input_output()\n",
    "\n",
    "tru_app = TruBasicApp(\n",
    "    text_to_text=lambda _: \"Tokyo is the capital of Japan.\",\n",
    "    feedbacks=[f_snowflake],\n",
    "    record_ingest_mode=RecordIngestMode.BUFFERED\n",
    ")"
   ]
  },
  {
   "cell_type": "code",
   "execution_count": null,
   "id": "49500aca-1226-4766-9dc2-76cd0e87dba2",
   "metadata": {},
   "outputs": [],
   "source": [
    "# Invoke app.\n",
    "\n",
    "with tru_app:\n",
    "    for i in range(100):\n",
    "        tru_app.main_call(\"What is the capital of Japan?\")"
   ]
  },
  {
   "cell_type": "code",
   "execution_count": null,
   "id": "b8251b0c-78d5-4bfc-b8a5-b45cfe827548",
   "metadata": {},
   "outputs": [],
   "source": [
    "# Run dashboard.\n",
    "\n",
    "from trulens.dashboard import run_dashboard\n",
    "\n",
    "run_dashboard(session)  # For some reason this doesn't work for me."
   ]
  }
 ],
 "metadata": {
  "kernelspec": {
   "display_name": "stable",
   "language": "python",
   "name": "python3"
  },
  "language_info": {
   "codemirror_mode": {
    "name": "ipython",
    "version": 3
   },
   "file_extension": ".py",
   "mimetype": "text/x-python",
   "name": "python",
   "nbconvert_exporter": "python",
   "pygments_lexer": "ipython3",
   "version": "3.11.9"
  }
 },
 "nbformat": 4,
 "nbformat_minor": 5
}
